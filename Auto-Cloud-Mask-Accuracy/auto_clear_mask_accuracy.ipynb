{
 "cells": [
  {
   "cell_type": "markdown",
   "id": "5626d11f",
   "metadata": {},
   "source": [
    "# Notebook to compare/analyse cloud masks\n",
    "\n",
    "> **ACM (Auto Cloud Mask)**: <font color=blue> Automated Cloud Mask generated automatically by EarthDailyAgro in less than 1 min</font>\n",
    "\n",
    "> **HQco (High Quality Manual Cloud Mask)**: <font color=blue> Automated Cloud Mask corrected by EarthDaily Agro or his HQco cloud mask provider (20min of work at least) </font>\n",
    "\n",
    "\n",
    "### @author: EarthDaily Agro"
   ]
  },
  {
   "cell_type": "code",
   "execution_count": 2,
   "id": "9209702a",
   "metadata": {},
   "outputs": [],
   "source": [
    "# import libraries\n",
    "\n",
    "import os\n",
    "import glob\n",
    "from osgeo import gdal\n",
    "import geopandas as gpd\n",
    "import rasterio\n",
    "import pandas as pd\n",
    "import numpy as np\n",
    "from rasterio.features import geometry_mask\n",
    "from rasterstats import zonal_stats\n",
    "import matplotlib.pyplot as plt"
   ]
  },
  {
   "cell_type": "markdown",
   "id": "fe8f3d36",
   "metadata": {},
   "source": [
    "## Data on local"
   ]
  },
  {
   "cell_type": "markdown",
   "id": "53bcea66",
   "metadata": {},
   "source": [
    "### Mask ACM\n",
    "> **Label 0** : `no_data`\n",
    "\n",
    "> **Label 1** : `clear`\n",
    "\n",
    "> **Label 2** : `cloud`"
   ]
  },
  {
   "cell_type": "code",
   "execution_count": 3,
   "id": "07417dab",
   "metadata": {},
   "outputs": [
    {
     "name": "stdout",
     "output_type": "stream",
     "text": [
      "C:/Users/mal/Desktop/Studies-and-Analysis-main/Auto-Cloud-Mask-Accuracy/Masks\\20230116\\L8_203024_20230116_utm30_gs2_acm.tif\n",
      "L8_203024_20230116_utm30_gs2\n",
      "C:/Users/mal/Desktop/Studies-and-Analysis-main/Auto-Cloud-Mask-Accuracy/Masks\\20230116\\L8_203024_20230116_utm30_gs2_acm.tif\n",
      "L8_203024_20230116_utm30_gs2\n",
      "C:/Users/mal/Desktop/Studies-and-Analysis-main/Auto-Cloud-Mask-Accuracy/Masks\\20230116\\L8_203024_20230116_utm30_gs2_acm.tif\n",
      "L8_203024_20230116_utm30_gs2\n"
     ]
    }
   ],
   "source": [
    "# Define folders and intersect ACM rasters with fields\n",
    "\n",
    "# Folder path\n",
    "path = \"***\"\n",
    "\n",
    "# cloud masks folder\n",
    "raster_path = path+\"/Masks\"\n",
    "\n",
    "# Get all rasters in the cloud masks folder\n",
    "tiff = \"*.tif\"\n",
    "\n",
    "# Fields\n",
    "fields = path+\"/Fields/Fields_WGS84.shp\"\n",
    "\n",
    "# Browse sub-directories\n",
    "for folder in os.listdir(raster_path):\n",
    "    path_folder = os.path.join(raster_path, folder)\n",
    "    \n",
    "    # Check if the path is a folder\n",
    "    if os.path.isdir(path_folder):\n",
    "        rasters_files = glob.glob(os.path.join(path_folder, tiff))\n",
    "    \n",
    "    for raster in rasters_files: \n",
    "        print(raster)\n",
    "        gdf = gpd.read_file(fields)\n",
    "        \n",
    "        # Path to original raster\n",
    "        input_raster_path = raster\n",
    "        \n",
    "        # Path to the output raster\n",
    "        output_raster_path = raster_path+\"/raster_repro.tif\"\n",
    "\n",
    "        # Target projection (EPSG:4326)\n",
    "        target_projection = 'EPSG:4326'\n",
    "\n",
    "        # Open original raster\n",
    "        raster_ds = gdal.Open(input_raster_path)\n",
    "\n",
    "        # Use gdal.Warp to reproject the raster to EPSG:4326\n",
    "        gdal.Warp(output_raster_path, raster_ds, dstSRS=target_projection)\n",
    "\n",
    "        gdf['mean'] = pd.DataFrame(\n",
    "            zonal_stats(\n",
    "                vectors=gdf['geometry'], \n",
    "                raster=output_raster_path, \n",
    "                stats='mean'))\n",
    "        #print(np.mean(gdf[\"mean\"]))\n",
    "        \n",
    "        image_name = raster.split(\"\\\\\")\n",
    "        new_colunm = image_name[2][:-8]\n",
    "        gdf[\"image_name\"] = new_colunm\n",
    "       \n",
    "        gdf_clear = gdf[gdf['mean'] == 1]\n",
    "        #print(np.mean(gdf_clear[\"mean\"]))\n",
    "        \n",
    "        # Save the updated GeoDataFrame in the shapefile\n",
    "        output_shapefile_path_clear = path+\"/Results_ACM/\"+new_colunm+\"_acm_clear.shp\"\n",
    "        gdf_clear.to_file(output_shapefile_path_clear)\n",
    "        #print(image_name[2][:-8])\n",
    "        \n",
    "        gdf_cloud = gdf[gdf['mean'] > 1]\n",
    "        #print(np.mean(gdf_cloud[\"mean\"]))\n",
    "        \n",
    "        # Sauvegarder le GeoDataFrame mis à jour dans le shapefile\n",
    "        output_shapefile_path_cloud =path+\"/Results_ACM/\"+new_colunm+\"_acm_cloud.shp\"\n",
    "        gdf_cloud.to_file(output_shapefile_path_cloud)\n",
    "        print(image_name[2][:-8])        \n"
   ]
  },
  {
   "cell_type": "code",
   "execution_count": 4,
   "id": "c3ada022",
   "metadata": {},
   "outputs": [
    {
     "name": "stdout",
     "output_type": "stream",
     "text": [
      "C:/Users/mal/Desktop/Studies-and-Analysis-main/Auto-Cloud-Mask-Accuracy/Results_ACM/merged_fields_clear_acm.shp\n",
      "C:/Users/mal/Desktop/Studies-and-Analysis-main/Auto-Cloud-Mask-Accuracy/Results_ACM/merged_fields_cloud_acm.shp\n"
     ]
    }
   ],
   "source": [
    "# Merge ACM results\n",
    "\n",
    "# Path to shapefile directory\n",
    "path_shp_results = path+\"/Results_ACM\"\n",
    "\n",
    "# Pattern to get clear shapefile in the folder\n",
    "shp_clear = \"*clear.shp\"\n",
    "\n",
    "# Use glob to obtain a list of shapefiles\n",
    "fields_acm = glob.glob(f\"{path_shp_results}/{shp_clear}\")\n",
    "merged_gdf = gpd.read_file(fields_acm[0])\n",
    "\n",
    "# Loop through the rest of the shapefiles and append them\n",
    "for path_acm in fields_acm[1:]:\n",
    "    gdf = gpd.read_file(path_acm)\n",
    "    merged_gdf = merged_gdf.append(gdf, ignore_index=True)\n",
    "\n",
    "    # Save the merged shapefile\n",
    "merged_gdf.to_file(path_shp_results+\"/merged_fields_clear_acm.shp\")\n",
    "print(path_shp_results+\"/merged_fields_clear_acm.shp\")\n",
    "    \n",
    "# Pattern to get cloud shapefile in the folder\n",
    "shp_cloud = \"*cloud.shp\"\n",
    "\n",
    "# Utilisation de glob pour obtenir une liste des fichiers shapefile\n",
    "fields_acm = glob.glob(f\"{path_shp_results}/{shp_cloud}\")\n",
    "merged_gdf = gpd.read_file(fields_acm[0])\n",
    "\n",
    "# Loop through the rest of the shapefiles and append them\n",
    "for path_acm in fields_acm[1:]:\n",
    "    gdf = gpd.read_file(path_acm)\n",
    "    merged_gdf = merged_gdf.append(gdf, ignore_index=True)\n",
    "\n",
    "    # Save the merged shapefile\n",
    "merged_gdf.to_file(path_shp_results+\"/merged_fields_cloud_acm.shp\")\n",
    "print(path_shp_results+\"/merged_fields_cloud_acm.shp\")"
   ]
  },
  {
   "cell_type": "markdown",
   "id": "c5929b41",
   "metadata": {},
   "source": [
    "### Mask HQco\n",
    "> **clear** : `clear`\n",
    "\n",
    "> **cloud** : `cloud`"
   ]
  },
  {
   "cell_type": "code",
   "execution_count": 5,
   "id": "6763fe06",
   "metadata": {},
   "outputs": [
    {
     "name": "stdout",
     "output_type": "stream",
     "text": [
      "L8_203024_20230116_utm30_gs2\n",
      "C:/Users/mal/Desktop/Studies-and-Analysis-main/Auto-Cloud-Mask-Accuracy/Masks\\20230116\\L8_203024_20230116_utm30_gs2_clear.shp\n",
      "L8_203024_20230116_utm30_gs2\n",
      "C:/Users/mal/Desktop/Studies-and-Analysis-main/Auto-Cloud-Mask-Accuracy/Masks\\20230116\\L8_203024_20230116_utm30_gs2_cloud.shp\n"
     ]
    }
   ],
   "source": [
    "# Define folders and intersect HQco shapefiles with fields\n",
    "\n",
    "# cloud masks folder\n",
    "cloud_mask = path+\"/Masks\"\n",
    "\n",
    "# fields\n",
    "fields = path+\"/Fields/Fields_WGS84.shp\"\n",
    "\n",
    "# Get all shapefiles in the cloud masks folder\n",
    "pattern = \"*.shp\"\n",
    "\n",
    "# Browse sub-directories\n",
    "for folder in os.listdir(cloud_mask):\n",
    "    path_folder = os.path.join(cloud_mask, folder)\n",
    "    \n",
    "    # Check if the path is a folder\n",
    "    if os.path.isdir(path_folder):\n",
    "        files_shapefile = glob.glob(os.path.join(path_folder, pattern))\n",
    "        \n",
    "        # Show files found in this folder\n",
    "        for file in files_shapefile:\n",
    "            # Read shapefiles into GeoDataFrames\n",
    "            gdf1 = gpd.read_file(file)\n",
    "            gdf2 = gpd.read_file(fields)\n",
    "            # Reproject cloud mask\n",
    "            gdf1_reprojected = gdf1.to_crs(gdf2.crs)\n",
    "            # Perform the intersection\n",
    "            intersection_result = gpd.overlay(gdf1_reprojected, gdf2, how='intersection')\n",
    "            # Save the result to a new shapefile\n",
    "            image_name = file.split(\"\\\\\")\n",
    "            print(image_name[2][:-10])\n",
    "            new_colunm = image_name[2][:-10]\n",
    "            intersection_result[\"image_name\"] = new_colunm\n",
    "            intersection_result.to_file(path+\"/Results_HQco/\"+image_name[2])\n",
    "            print(file)"
   ]
  },
  {
   "cell_type": "code",
   "execution_count": 6,
   "id": "64e8aecd",
   "metadata": {},
   "outputs": [
    {
     "name": "stdout",
     "output_type": "stream",
     "text": [
      "C:/Users/mal/Desktop/Studies-and-Analysis-main/Auto-Cloud-Mask-Accuracy/Results_HQco/merged_fields_clear_hqco.shp\n",
      "C:/Users/mal/Desktop/Studies-and-Analysis-main/Auto-Cloud-Mask-Accuracy/Results_HQco/merged_fields_cloud_hqco.shp\n"
     ]
    }
   ],
   "source": [
    "# Merge HQco results\n",
    "\n",
    "# Path to shapefile directory\n",
    "path_shapefiles = path+\"/Results_HQco\"\n",
    "\n",
    "# Pattern to get shapefile in the folder\n",
    "clear = \"*_clear.shp\"\n",
    "cloud = \"*_cloud.shp\"\n",
    "\n",
    "# Use glob to obtain a list of shapefiles\n",
    "fields_clear = glob.glob(f\"{path_shapefiles}/{clear}\")\n",
    "fields_cloud = glob.glob(f\"{path_shapefiles}/{cloud}\")\n",
    "\n",
    "merged_gdf = gpd.read_file(fields_clear[0])\n",
    "\n",
    "# Loop through the rest of the shapefiles and append them\n",
    "for shp_clear in fields_clear[1:]:\n",
    "    gdf = gpd.read_file(shp_clear)\n",
    "    merged_gdf = merged_gdf.append(gdf, ignore_index=True)\n",
    "\n",
    "    # Save the merged shapefile\n",
    "merged_gdf.to_file(path_shapefiles+\"/merged_fields_clear_hqco.shp\")\n",
    "print(path_shapefiles+\"/merged_fields_clear_hqco.shp\")\n",
    "\n",
    "# Read the first shapefile to set the schema\n",
    "merged_gdf = gpd.read_file(fields_cloud[0])\n",
    "\n",
    "# Loop through the rest of the shapefiles and append them\n",
    "for shp_cloud in fields_cloud[1:]:\n",
    "    gdf = gpd.read_file(shp_cloud)\n",
    "    merged_gdf = merged_gdf.append(gdf, ignore_index=True)\n",
    "\n",
    "    # Save the merged shapefile\n",
    "merged_gdf.to_file(path_shapefiles+\"/merged_fields_cloud_hqco.shp\")\n",
    "print(path_shapefiles+\"/merged_fields_cloud_hqco.shp\")"
   ]
  },
  {
   "cell_type": "code",
   "execution_count": 7,
   "id": "7f1f43f4",
   "metadata": {},
   "outputs": [
    {
     "name": "stdout",
     "output_type": "stream",
     "text": [
      "      id  idseasonfi                    image_name  \\\n",
      "0    NaN         112  L8_203024_20230116_utm30_gs2   \n",
      "1    NaN         113  L8_203024_20230116_utm30_gs2   \n",
      "2    NaN         114  L8_203024_20230116_utm30_gs2   \n",
      "3    NaN         115  L8_203024_20230116_utm30_gs2   \n",
      "4    NaN         116  L8_203024_20230116_utm30_gs2   \n",
      "..   ...         ...                           ...   \n",
      "926  0.0        5768  L8_203024_20230116_utm30_gs2   \n",
      "927  0.0        5769  L8_203024_20230116_utm30_gs2   \n",
      "928  0.0        5770  L8_203024_20230116_utm30_gs2   \n",
      "929  0.0        5771  L8_203024_20230116_utm30_gs2   \n",
      "930  0.0        5772  L8_203024_20230116_utm30_gs2   \n",
      "\n",
      "                                  code  \n",
      "0     112_L8_203024_20230116_utm30_gs2  \n",
      "1     113_L8_203024_20230116_utm30_gs2  \n",
      "2     114_L8_203024_20230116_utm30_gs2  \n",
      "3     115_L8_203024_20230116_utm30_gs2  \n",
      "4     116_L8_203024_20230116_utm30_gs2  \n",
      "..                                 ...  \n",
      "926  5768_L8_203024_20230116_utm30_gs2  \n",
      "927  5769_L8_203024_20230116_utm30_gs2  \n",
      "928  5770_L8_203024_20230116_utm30_gs2  \n",
      "929  5771_L8_203024_20230116_utm30_gs2  \n",
      "930  5772_L8_203024_20230116_utm30_gs2  \n",
      "\n",
      "[931 rows x 4 columns]\n",
      "     idseasonfi      mean                    image_name  \\\n",
      "0             1  1.004975  L8_203024_20230116_utm30_gs2   \n",
      "1             3  1.903134  L8_203024_20230116_utm30_gs2   \n",
      "2             4  1.996694  L8_203024_20230116_utm30_gs2   \n",
      "3             5  1.068627  L8_203024_20230116_utm30_gs2   \n",
      "4             6  1.615917  L8_203024_20230116_utm30_gs2   \n",
      "...         ...       ...                           ...   \n",
      "5729       5951  2.000000  L8_203024_20230116_utm30_gs2   \n",
      "5730       5952  2.000000  L8_203024_20230116_utm30_gs2   \n",
      "5731       5953  2.000000  L8_203024_20230116_utm30_gs2   \n",
      "5732       5954  2.000000  L8_203024_20230116_utm30_gs2   \n",
      "5733       5955  2.000000  L8_203024_20230116_utm30_gs2   \n",
      "\n",
      "                                   code  \n",
      "0        1_L8_203024_20230116_utm30_gs2  \n",
      "1        3_L8_203024_20230116_utm30_gs2  \n",
      "2        4_L8_203024_20230116_utm30_gs2  \n",
      "3        5_L8_203024_20230116_utm30_gs2  \n",
      "4        6_L8_203024_20230116_utm30_gs2  \n",
      "...                                 ...  \n",
      "5729  5951_L8_203024_20230116_utm30_gs2  \n",
      "5730  5952_L8_203024_20230116_utm30_gs2  \n",
      "5731  5953_L8_203024_20230116_utm30_gs2  \n",
      "5732  5954_L8_203024_20230116_utm30_gs2  \n",
      "5733  5955_L8_203024_20230116_utm30_gs2  \n",
      "\n",
      "[5734 rows x 4 columns]\n",
      "     idseasonfi  mean                    image_name  \\\n",
      "0             2   1.0  L8_203024_20230116_utm30_gs2   \n",
      "1            67   1.0  L8_203024_20230116_utm30_gs2   \n",
      "2            69   1.0  L8_203024_20230116_utm30_gs2   \n",
      "3            70   1.0  L8_203024_20230116_utm30_gs2   \n",
      "4            71   1.0  L8_203024_20230116_utm30_gs2   \n",
      "..          ...   ...                           ...   \n",
      "216        5887   1.0  L8_203024_20230116_utm30_gs2   \n",
      "217        5888   1.0  L8_203024_20230116_utm30_gs2   \n",
      "218        5889   1.0  L8_203024_20230116_utm30_gs2   \n",
      "219        5890   1.0  L8_203024_20230116_utm30_gs2   \n",
      "220        5891   1.0  L8_203024_20230116_utm30_gs2   \n",
      "\n",
      "                                  code  \n",
      "0       2_L8_203024_20230116_utm30_gs2  \n",
      "1      67_L8_203024_20230116_utm30_gs2  \n",
      "2      69_L8_203024_20230116_utm30_gs2  \n",
      "3      70_L8_203024_20230116_utm30_gs2  \n",
      "4      71_L8_203024_20230116_utm30_gs2  \n",
      "..                                 ...  \n",
      "216  5887_L8_203024_20230116_utm30_gs2  \n",
      "217  5888_L8_203024_20230116_utm30_gs2  \n",
      "218  5889_L8_203024_20230116_utm30_gs2  \n",
      "219  5890_L8_203024_20230116_utm30_gs2  \n",
      "220  5891_L8_203024_20230116_utm30_gs2  \n",
      "\n",
      "[221 rows x 4 columns]\n",
      "     id idseasonfi                    image_name  \\\n",
      "0  None       5955  L8_203024_20230116_utm30_gs2   \n",
      "\n",
      "                                code  \n",
      "0  5955_L8_203024_20230116_utm30_gs2  \n"
     ]
    }
   ],
   "source": [
    "# Update merged shapefile with new colunm \"code\"\n",
    "cloud_hqco = gpd.read_file(path+\"/Results_HQco/merged_fields_cloud_hqco.shp\")\n",
    "cloud_hqco = cloud_hqco.drop(columns='geometry')\n",
    "#cloud_hqco[\"idseasonfi\"] = cloud_hqco[\"idseasonfi\"].astype(np.object)\n",
    "code = cloud_hqco[\"idseasonfi\"].astype(str)+'_'+cloud_hqco[\"image_name\"]\n",
    "cloud_hqco[\"code\"] = code\n",
    "print(cloud_hqco)\n",
    "\n",
    "cloud_acm = gpd.read_file(path+\"/Results_ACM/merged_fields_cloud_acm.shp\")\n",
    "cloud_acm = cloud_acm.drop(columns='geometry')\n",
    "cloud_acm['idseasonfi'] = cloud_acm['idseasonfi'].apply(lambda x: str(x))\n",
    "code = cloud_acm[\"idseasonfi\"].astype(str)+'_'+cloud_acm[\"image_name\"]\n",
    "cloud_acm[\"code\"] = code\n",
    "print(cloud_acm)\n",
    "\n",
    "clear_acm = gpd.read_file(path+\"/Results_ACM/merged_fields_clear_acm.shp\")\n",
    "clear_acm = clear_acm.drop(columns='geometry')\n",
    "code = clear_acm[\"idseasonfi\"].astype(str)+'_'+clear_acm[\"image_name\"]\n",
    "clear_acm[\"code\"] = code\n",
    "print(clear_acm)\n",
    "                          \n",
    "clear_hqco = gpd.read_file(path+\"/Results_HQco/merged_fields_clear_hqco.shp\")\n",
    "clear_hqco = clear_hqco.drop(columns='geometry')\n",
    "clear_hqco['idseasonfi'] = clear_hqco['idseasonfi'].apply(lambda x: str(x))\n",
    "code = clear_hqco[\"idseasonfi\"].astype(str)+'_'+clear_hqco[\"image_name\"]\n",
    "clear_hqco[\"code\"] = code\n",
    "print(clear_hqco)"
   ]
  },
  {
   "cell_type": "markdown",
   "id": "84a64774",
   "metadata": {},
   "source": [
    "### Join ACM and HQco results & compute metrics"
   ]
  },
  {
   "cell_type": "code",
   "execution_count": 8,
   "id": "78ed4c96",
   "metadata": {},
   "outputs": [
    {
     "name": "stdout",
     "output_type": "stream",
     "text": [
      "Number of fields clear in ACM = 221\n",
      "Number of fields clear in HQco = 1\n",
      "Number of fields cloud in ACM = 5734\n",
      "Number of fields cloud in HQco = 931\n",
      "Number of fields clear in HQco and ACM = 0\n",
      "Number of fields clear in ACM and cloud in HQco = 128\n",
      "Number of fields clear in HQco and cloud in ACM = 1\n",
      "Number of fields cloud in HQco and ACM = 803\n",
      "Total number of fields = 5955\n"
     ]
    }
   ],
   "source": [
    "# Perform the join operation\n",
    "\n",
    "clear_clear = clear_hqco.merge(clear_acm, on='code', how='left')\n",
    "clear_clear = clear_clear[clear_clear['mean']==1]\n",
    "#print(clear_clear)\n",
    "#print(len(clear_clear))\n",
    "cloud_clear = cloud_hqco.merge(clear_acm, on='code', how='left')\n",
    "cloud_clear = cloud_clear[cloud_clear['mean']==1]\n",
    "#print(cloud_clear)\n",
    "#print(len(cloud_clear))\n",
    "clear_cloud = clear_hqco.merge(cloud_acm, on='code', how='left')\n",
    "clear_cloud = clear_cloud[clear_cloud['mean']>1]\n",
    "#print(clear_cloud)\n",
    "#print(len(clear_cloud))\n",
    "cloud_cloud = cloud_hqco.merge(cloud_acm, on='code', how='left')\n",
    "cloud_cloud = cloud_cloud[cloud_cloud['mean']>1]\n",
    "#print(cloud_cloud)\n",
    "#print(len(cloud_cloud))\n",
    "\n",
    "# Metrics - Number of fields clear and cloud in ACM and HQco\n",
    "\n",
    "ACM_clear=len(clear_acm)\n",
    "print('Number of fields clear in ACM = '+str(ACM_clear))\n",
    "HQco_clear=len(clear_hqco)\n",
    "print('Number of fields clear in HQco = '+str(HQco_clear))\n",
    "ACM_cloud=len(cloud_acm)\n",
    "print('Number of fields cloud in ACM = '+str(ACM_cloud))\n",
    "HQco_cloud=len(cloud_hqco)\n",
    "print('Number of fields cloud in HQco = '+str(HQco_cloud))\n",
    "\n",
    "print('Number of fields clear in HQco and ACM = '+str(len(clear_clear)))\n",
    "print('Number of fields clear in ACM and cloud in HQco = '+str(len(cloud_clear)))\n",
    "print('Number of fields clear in HQco and cloud in ACM = '+str(len(clear_cloud)))\n",
    "print('Number of fields cloud in HQco and ACM = '+str(len(cloud_cloud)))\n",
    "\n",
    "# Sum of fields\n",
    "\n",
    "sum_fields = ACM_clear + ACM_cloud\n",
    "print('Total number of fields = ' +str(sum_fields))"
   ]
  },
  {
   "cell_type": "code",
   "execution_count": 9,
   "id": "a4d14e0b",
   "metadata": {},
   "outputs": [
    {
     "name": "stdout",
     "output_type": "stream",
     "text": [
      "Percent of fields clear in HQco and ACM = 2.0%\n",
      "Percent of fields clear in ACM and cloud in HQco = 2.0%\n",
      "Percent of fields clear in HQco and cloud in ACM = 0.0%\n",
      "Percent of fields cloud in HQco and ACM = 96.0%\n"
     ]
    },
    {
     "data": {
      "text/plain": [
       "100.0"
      ]
     },
     "execution_count": 9,
     "metadata": {},
     "output_type": "execute_result"
    }
   ],
   "source": [
    "# Compute percent metrics\n",
    "\n",
    "clear_clear_final = len(clear_acm) - len(cloud_clear)\n",
    "cloud_clear_final = len(cloud_clear)\n",
    "clear_cloud_final = len(clear_cloud)\n",
    "cloud_cloud_final = len(cloud_acm) - len(clear_cloud)\n",
    "clear_clear_percent = np.round(clear_clear_final / sum_fields * 100)\n",
    "cloud_clear_percent = np.round(cloud_clear_final / sum_fields * 100)\n",
    "clear_cloud_percent = np.round(clear_cloud_final / sum_fields * 100)\n",
    "cloud_cloud_percent = np.round(cloud_cloud_final / sum_fields * 100)\n",
    "print('Percent of fields clear in HQco and ACM = '+str(np.round(clear_clear_percent))+'%')\n",
    "print('Percent of fields clear in ACM and cloud in HQco = '+str(np.round(cloud_clear_percent))+'%')\n",
    "print('Percent of fields clear in HQco and cloud in ACM = '+str(np.round(clear_cloud_percent))+'%')\n",
    "print('Percent of fields cloud in HQco and ACM = '+str(np.round(cloud_cloud_percent))+'%')\n",
    "def sum_eda(*args):\n",
    "    return sum(args)\n",
    "sum_eda(np.round(clear_clear_percent),np.round(cloud_clear_percent),np.round(clear_cloud_percent),np.round(cloud_cloud_percent))"
   ]
  },
  {
   "cell_type": "markdown",
   "id": "50acda0b",
   "metadata": {},
   "source": [
    "### Plot metrics - compute matrix confusion"
   ]
  },
  {
   "cell_type": "code",
   "execution_count": 10,
   "id": "463eb9c9",
   "metadata": {},
   "outputs": [
    {
     "name": "stdout",
     "output_type": "stream",
     "text": [
      "Analysis of ACM vs HQco: \n",
      "accuracy 98.0%, over cloud detection 0.0%, under cloud detection 2.0%\n"
     ]
    },
    {
     "data": {
      "image/png": "[encoded data removed]",
      "text/plain": [
       "<Figure size 400x400 with 1 Axes>"
      ]
     },
     "metadata": {},
     "output_type": "display_data"
    }
   ],
   "source": [
    "# Plot metrics\n",
    "\n",
    "# Column and row names\n",
    "column_names = ['clear', 'cloud']\n",
    "row_names = ['clear', 'cloud']\n",
    "\n",
    "mat_confusion = np.array([[clear_clear_percent, cloud_clear_percent], [clear_cloud_percent, cloud_cloud_percent]])\n",
    "\n",
    "# Create dataframe\n",
    "df = pd.DataFrame(mat_confusion, index=row_names, columns=column_names)\n",
    "\n",
    "# Plot\n",
    "plt.figure(figsize=(4, 4))\n",
    "plt.axis('off')\n",
    "\n",
    "plt.text(0.5, 0.95, 'HQco', fontsize=12, fontweight='bold', ha='center', va='center')\n",
    "plt.text(-0.25, 0.25, 'ACM', fontsize=12, fontweight='bold', ha='center', va='center')\n",
    "\n",
    "# Plot confusion matrix\n",
    "tableau = plt.table(cellText=df.values, colLabels=df.columns, rowLabels=df.index, cellLoc='center', loc='center',\n",
    "                        cellColours=plt.cm.RdYlGn(df.values / np.max(df.values)), bbox=[0, 0, 1, 0.9])\n",
    "\n",
    "tableau.auto_set_font_size(False)\n",
    "tableau.set_fontsize(10)\n",
    "tableau.scale(1, 1.5)\n",
    "\n",
    "# compute accuracy, over/under cloud detection\n",
    "accuracy = mat_confusion[0, 0] + mat_confusion[1, 1]\n",
    "over_detection = mat_confusion[1, 0]\n",
    "under_detection = mat_confusion[0, 1]\n",
    "print(\"Analysis of {} vs {}: \\naccuracy {}%, over cloud detection {}%, under cloud detection {}%\".format('ACM','HQco',accuracy,over_detection,under_detection))\n",
    "\n",
    "plt.show()"
   ]
  },
  {
   "cell_type": "code",
   "execution_count": null,
   "id": "ec1669b0",
   "metadata": {},
   "outputs": [],
   "source": []
  }
 ],
 "metadata": {
  "kernelspec": {
   "display_name": "Python (geosys-test)",
   "language": "python",
   "name": "geosys-test"
  },
  "language_info": {
   "codemirror_mode": {
    "name": "ipython",
    "version": 3
   },
   "file_extension": ".py",
   "mimetype": "text/x-python",
   "name": "python",
   "nbconvert_exporter": "python",
   "pygments_lexer": "ipython3",
   "version": "3.9.13"
  }
 },
 "nbformat": 4,
 "nbformat_minor": 5
}
